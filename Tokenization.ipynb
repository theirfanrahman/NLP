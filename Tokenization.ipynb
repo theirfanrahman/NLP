{
  "nbformat": 4,
  "nbformat_minor": 0,
  "metadata": {
    "colab": {
      "name": "Tokenization.ipynb",
      "provenance": [],
      "toc_visible": true,
      "authorship_tag": "ABX9TyP5MRk3R+H9UJwv+I3x/d3Q",
      "include_colab_link": true
    },
    "kernelspec": {
      "name": "python3",
      "display_name": "Python 3"
    }
  },
  "cells": [
    {
      "cell_type": "markdown",
      "metadata": {
        "id": "view-in-github",
        "colab_type": "text"
      },
      "source": [
        "<a href=\"https://colab.research.google.com/github/theirfanrahman/NLP/blob/master/Tokenization.ipynb\" target=\"_parent\"><img src=\"https://colab.research.google.com/assets/colab-badge.svg\" alt=\"Open In Colab\"/></a>"
      ]
    },
    {
      "cell_type": "markdown",
      "metadata": {
        "id": "6FPFuQWZcpNg",
        "colab_type": "text"
      },
      "source": [
        "\n",
        "# To represnt a word so that computer can process is called tokenization\n",
        "\n",
        "### There are many other library are available to do tokenization but here we are using keras libray for the same"
      ]
    },
    {
      "cell_type": "code",
      "metadata": {
        "id": "hlbha2VWd4MG",
        "colab_type": "code",
        "colab": {}
      },
      "source": [
        "#import library\n",
        "import tensorflow as tf\n",
        "from tensorflow import keras\n",
        "from tensorflow.keras.preprocessing.text import Tokenizer"
      ],
      "execution_count": 0,
      "outputs": []
    },
    {
      "cell_type": "code",
      "metadata": {
        "id": "RIGLSv3JftoA",
        "colab_type": "code",
        "colab": {}
      },
      "source": [
        "#let's create a list of sentences\n",
        "texts = [\"i love my cat\",\n",
        "         \"i love my dog\",\n",
        "         \"i love my cat!\"]"
      ],
      "execution_count": 0,
      "outputs": []
    },
    {
      "cell_type": "code",
      "metadata": {
        "id": "SJ7bza6fgRE4",
        "colab_type": "code",
        "colab": {}
      },
      "source": [
        "#instantiate tokenizer object\n",
        "tokenizer = Tokenizer()\n",
        "tokenizer.fit_on_texts(texts) "
      ],
      "execution_count": 0,
      "outputs": []
    },
    {
      "cell_type": "code",
      "metadata": {
        "id": "11ivF8X1hW0p",
        "colab_type": "code",
        "outputId": "42872188-6605-414d-e218-66f0d7e1f327",
        "colab": {
          "base_uri": "https://localhost:8080/",
          "height": 34
        }
      },
      "source": [
        "#the full list of words is available as the tokenizer's word index property\n",
        "word_index = tokenizer.word_index\n",
        "print(word_index)"
      ],
      "execution_count": 0,
      "outputs": [
        {
          "output_type": "stream",
          "text": [
            "{'i': 1, 'love': 2, 'my': 3, 'cat': 4, 'dog': 5}\n"
          ],
          "name": "stdout"
        }
      ]
    },
    {
      "cell_type": "markdown",
      "metadata": {
        "id": "tCyrb9waeDnM",
        "colab_type": "text"
      },
      "source": [
        ""
      ]
    }
  ]
}