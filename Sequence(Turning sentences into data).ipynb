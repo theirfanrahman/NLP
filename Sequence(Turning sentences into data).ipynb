{
  "nbformat": 4,
  "nbformat_minor": 0,
  "metadata": {
    "colab": {
      "name": "Sequence-.ipynb",
      "provenance": [],
      "authorship_tag": "ABX9TyPLdmB9jVH4Jkut+dDXTeOg",
      "include_colab_link": true
    },
    "kernelspec": {
      "name": "python3",
      "display_name": "Python 3"
    }
  },
  "cells": [
    {
      "cell_type": "markdown",
      "metadata": {
        "id": "view-in-github",
        "colab_type": "text"
      },
      "source": [
        "<a href=\"https://colab.research.google.com/github/theirfanrahman/NLP/blob/master/Sequence(Turning%20sentences%20into%20data).ipynb\" target=\"_parent\"><img src=\"https://colab.research.google.com/assets/colab-badge.svg\" alt=\"Open In Colab\"/></a>"
      ]
    },
    {
      "cell_type": "markdown",
      "metadata": {
        "id": "ZS-m4IYHpCOE",
        "colab_type": "text"
      },
      "source": [
        "# Converting sentences conatianing words into sequence of number so that it can be used to train nural networks "
      ]
    },
    {
      "cell_type": "code",
      "metadata": {
        "id": "k74oUvq0phY8",
        "colab_type": "code",
        "colab": {}
      },
      "source": [
        "#import library\n",
        "import tensorflow as tf\n",
        "from tensorflow import keras\n",
        "from tensorflow.keras.preprocessing.text import Tokenizer"
      ],
      "execution_count": 0,
      "outputs": []
    },
    {
      "cell_type": "code",
      "metadata": {
        "id": "We_8hJ2upqgn",
        "colab_type": "code",
        "colab": {}
      },
      "source": [
        "#let's create a list of different size of sentences\n",
        "\n",
        "texts = [\"i love my cat\",\n",
        "         \"i love my dog\",\n",
        "         \"my cat is really amazing\"]"
      ],
      "execution_count": 0,
      "outputs": []
    },
    {
      "cell_type": "code",
      "metadata": {
        "id": "PhJjGDxQp5Fl",
        "colab_type": "code",
        "colab": {}
      },
      "source": [
        "#instantiate tokenizer object\n",
        "tokenizer = Tokenizer()\n",
        "tokenizer.fit_on_texts(texts) "
      ],
      "execution_count": 0,
      "outputs": []
    },
    {
      "cell_type": "code",
      "metadata": {
        "id": "39qBsblEp9RH",
        "colab_type": "code",
        "colab": {
          "base_uri": "https://localhost:8080/",
          "height": 34
        },
        "outputId": "a256966a-e73a-4bf5-ab8e-e996db648871"
      },
      "source": [
        "#the full list of words is available as the tokenizer's word index property\n",
        "word_index = tokenizer.word_index\n",
        "print(word_index)"
      ],
      "execution_count": 4,
      "outputs": [
        {
          "output_type": "stream",
          "text": [
            "{'my': 1, 'i': 2, 'love': 3, 'cat': 4, 'dog': 5, 'is': 6, 'really': 7, 'amazing': 8}\n"
          ],
          "name": "stdout"
        }
      ]
    },
    {
      "cell_type": "code",
      "metadata": {
        "id": "8hO1-R9iqBJT",
        "colab_type": "code",
        "colab": {
          "base_uri": "https://localhost:8080/",
          "height": 34
        },
        "outputId": "a4369f88-ef8e-4274-90a3-3232a2b0ce7a"
      },
      "source": [
        "sequence = tokenizer.texts_to_sequences(texts)\n",
        "print(sequence)"
      ],
      "execution_count": 6,
      "outputs": [
        {
          "output_type": "stream",
          "text": [
            "[[2, 3, 1, 4], [2, 3, 1, 5], [1, 4, 6, 7, 8]]\n"
          ],
          "name": "stdout"
        }
      ]
    },
    {
      "cell_type": "markdown",
      "metadata": {
        "id": "5_WmouWxrWtZ",
        "colab_type": "text"
      },
      "source": [
        "As you can see sentences conataining words converted into it's repective sequnce numers"
      ]
    }
  ]
}