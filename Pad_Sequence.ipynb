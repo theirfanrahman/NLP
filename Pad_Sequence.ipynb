{
  "nbformat": 4,
  "nbformat_minor": 0,
  "metadata": {
    "colab": {
      "name": "Pad-Sequence.ipynb",
      "provenance": [],
      "authorship_tag": "ABX9TyOu+Z/jsTb3Ui6bVbgxP/vU",
      "include_colab_link": true
    },
    "kernelspec": {
      "name": "python3",
      "display_name": "Python 3"
    }
  },
  "cells": [
    {
      "cell_type": "markdown",
      "metadata": {
        "id": "view-in-github",
        "colab_type": "text"
      },
      "source": [
        "<a href=\"https://colab.research.google.com/github/theirfanrahman/NLP/blob/master/Pad_Sequence.ipynb\" target=\"_parent\"><img src=\"https://colab.research.google.com/assets/colab-badge.svg\" alt=\"Open In Colab\"/></a>"
      ]
    },
    {
      "cell_type": "markdown",
      "metadata": {
        "id": "qiDJBapCslE8",
        "colab_type": "text"
      },
      "source": [
        "# Pad-sequence is used ensure that all the number of sequences in the list must have the same length. By default it will do padding from beginning of each sentences. we can change also to pad from end by setting padding='post'."
      ]
    },
    {
      "cell_type": "code",
      "metadata": {
        "id": "6brIYzPtvFu9",
        "colab_type": "code",
        "colab": {}
      },
      "source": [
        "#import library\n",
        "import tensorflow as tf\n",
        "from tensorflow import keras\n",
        "from tensorflow.keras.preprocessing.text import Tokenizer\n",
        "from tensorflow.keras.preprocessing.sequence import pad_sequences"
      ],
      "execution_count": 0,
      "outputs": []
    },
    {
      "cell_type": "code",
      "metadata": {
        "id": "4TUR1L4jwL_w",
        "colab_type": "code",
        "colab": {}
      },
      "source": [
        "#let's create a list of different size of sentences\n",
        "texts = [\"i love my cat\",\n",
        "         \"i love my dog\",\n",
        "         \"my cat is really amazing\"]"
      ],
      "execution_count": 0,
      "outputs": []
    },
    {
      "cell_type": "code",
      "metadata": {
        "id": "Uab3pxvnwWjp",
        "colab_type": "code",
        "colab": {}
      },
      "source": [
        "#instantiate tokenizer object\n",
        "tokenizer = Tokenizer()\n",
        "tokenizer.fit_on_texts(texts) "
      ],
      "execution_count": 0,
      "outputs": []
    },
    {
      "cell_type": "code",
      "metadata": {
        "id": "Kn8Estgfwc4F",
        "colab_type": "code",
        "colab": {
          "base_uri": "https://localhost:8080/",
          "height": 34
        },
        "outputId": "9c73e787-0729-4378-d6a6-3dc997a28745"
      },
      "source": [
        "#the full list of words is available as the tokenizer's word index property\n",
        "word_index = tokenizer.word_index\n",
        "print(word_index)"
      ],
      "execution_count": 9,
      "outputs": [
        {
          "output_type": "stream",
          "text": [
            "{'my': 1, 'i': 2, 'love': 3, 'cat': 4, 'dog': 5, 'is': 6, 'really': 7, 'amazing': 8}\n"
          ],
          "name": "stdout"
        }
      ]
    },
    {
      "cell_type": "code",
      "metadata": {
        "id": "fDF06pPNwf4K",
        "colab_type": "code",
        "colab": {
          "base_uri": "https://localhost:8080/",
          "height": 34
        },
        "outputId": "a713b2dd-9e58-4e10-f1ad-d585000050c9"
      },
      "source": [
        "sequence = tokenizer.texts_to_sequences(texts)\n",
        "print(sequence)"
      ],
      "execution_count": 10,
      "outputs": [
        {
          "output_type": "stream",
          "text": [
            "[[2, 3, 1, 4], [2, 3, 1, 5], [1, 4, 6, 7, 8]]\n"
          ],
          "name": "stdout"
        }
      ]
    },
    {
      "cell_type": "code",
      "metadata": {
        "id": "2_V6Sdphwhsj",
        "colab_type": "code",
        "colab": {
          "base_uri": "https://localhost:8080/",
          "height": 67
        },
        "outputId": "60794c47-2677-43aa-a9ff-97e6c1fd5976"
      },
      "source": [
        "#Pre padding\n",
        "pad = pad_sequences(sequence)\n",
        "print(pad)"
      ],
      "execution_count": 11,
      "outputs": [
        {
          "output_type": "stream",
          "text": [
            "[[0 2 3 1 4]\n",
            " [0 2 3 1 5]\n",
            " [1 4 6 7 8]]\n"
          ],
          "name": "stdout"
        }
      ]
    },
    {
      "cell_type": "code",
      "metadata": {
        "id": "C19VYzc3w_Qj",
        "colab_type": "code",
        "colab": {
          "base_uri": "https://localhost:8080/",
          "height": 67
        },
        "outputId": "a2fac1b4-bd1f-479b-b249-91a6d1582e9c"
      },
      "source": [
        "pad = pad_sequences(sequence, padding='post')\n",
        "print(pad)"
      ],
      "execution_count": 12,
      "outputs": [
        {
          "output_type": "stream",
          "text": [
            "[[2 3 1 4 0]\n",
            " [2 3 1 5 0]\n",
            " [1 4 6 7 8]]\n"
          ],
          "name": "stdout"
        }
      ]
    }
  ]
}